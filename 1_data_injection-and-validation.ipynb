{
 "cells": [
  {
   "cell_type": "code",
   "execution_count": 241,
   "id": "00bbe7cd",
   "metadata": {},
   "outputs": [],
   "source": [
    "#All labraries\n",
    "import pandas as pd\n",
    "import numpy as np\n",
    "import matplotlib.pyplot as plt\n",
    "import seaborn as sns\n",
    "import os\n",
    "%matplotlib inline\n",
    "import json\n",
    "import re\n",
    "import shutil"
   ]
  },
  {
   "cell_type": "code",
   "execution_count": 242,
   "id": "eb5a05b9",
   "metadata": {},
   "outputs": [],
   "source": [
    "# Training batch file"
   ]
  },
  {
   "cell_type": "code",
   "execution_count": 243,
   "id": "79e734b7",
   "metadata": {},
   "outputs": [],
   "source": [
    "schema_path='C://Users//hp//7.Muffassil_Project//3_Wafer_fault_detection//3_Muffassil_code/schema_training.json'\n",
    "training_folder_path='C:\\\\Users\\\\hp\\\\7.Muffassil_Project\\\\3_Wafer_fault_detection\\\\3_Muffassil_code\\\\Training_Batch_Files'"
   ]
  },
  {
   "cell_type": "code",
   "execution_count": 244,
   "id": "a711a42b",
   "metadata": {},
   "outputs": [
    {
     "data": {
      "text/plain": [
       "'C://Users//hp//7.Muffassil_Project//3_Wafer_fault_detection//3_Muffassil_code/schema_training.json'"
      ]
     },
     "execution_count": 244,
     "metadata": {},
     "output_type": "execute_result"
    }
   ],
   "source": [
    "schema_path"
   ]
  },
  {
   "cell_type": "code",
   "execution_count": 245,
   "id": "b9a316d2",
   "metadata": {},
   "outputs": [
    {
     "data": {
      "text/plain": [
       "'C:\\\\Users\\\\hp\\\\7.Muffassil_Project\\\\3_Wafer_fault_detection\\\\3_Muffassil_code\\\\Training_Batch_Files'"
      ]
     },
     "execution_count": 245,
     "metadata": {},
     "output_type": "execute_result"
    }
   ],
   "source": [
    "training_folder_path"
   ]
  },
  {
   "cell_type": "code",
   "execution_count": 246,
   "id": "00f8e3c6",
   "metadata": {},
   "outputs": [],
   "source": [
    "def valuesfromscheme():\n",
    "    with open (schema_path, 'r') as f:\n",
    "        data=json.load(f)   #conveting str to dict format ie we use json\n",
    "#     print(type(data))\n",
    "#     print(data)\n",
    "    pattern=data['SampleFileName']\n",
    "    LengthOfDateStampInFile=data['LengthOfDateStampInFile']\n",
    "    LengthOfTimeStampInFile=data['LengthOfTimeStampInFile']\n",
    "    NumberofColumns=data['NumberofColumns']\n",
    "    \n",
    "    return pattern,LengthOfDateStampInFile,LengthOfTimeStampInFile,NumberofColumns\n",
    "    "
   ]
  },
  {
   "cell_type": "code",
   "execution_count": 247,
   "id": "3e6bf399",
   "metadata": {},
   "outputs": [],
   "source": [
    "pattern,LengthOfDateStampInFile,LengthOfTimeStampInFile,NumberofColumns=valuesfromscheme()"
   ]
  },
  {
   "cell_type": "code",
   "execution_count": 248,
   "id": "19523a93",
   "metadata": {},
   "outputs": [
    {
     "data": {
      "text/plain": [
       "'wafer_08012020_120000.csv'"
      ]
     },
     "execution_count": 248,
     "metadata": {},
     "output_type": "execute_result"
    }
   ],
   "source": [
    "pattern"
   ]
  },
  {
   "cell_type": "code",
   "execution_count": 249,
   "id": "9c518aef",
   "metadata": {},
   "outputs": [
    {
     "data": {
      "text/plain": [
       "8"
      ]
     },
     "execution_count": 249,
     "metadata": {},
     "output_type": "execute_result"
    }
   ],
   "source": [
    "LengthOfDateStampInFile"
   ]
  },
  {
   "cell_type": "code",
   "execution_count": 250,
   "id": "6f297a77",
   "metadata": {},
   "outputs": [
    {
     "data": {
      "text/plain": [
       "6"
      ]
     },
     "execution_count": 250,
     "metadata": {},
     "output_type": "execute_result"
    }
   ],
   "source": [
    "LengthOfTimeStampInFile"
   ]
  },
  {
   "cell_type": "code",
   "execution_count": 251,
   "id": "e4c9e92b",
   "metadata": {},
   "outputs": [
    {
     "data": {
      "text/plain": [
       "592"
      ]
     },
     "execution_count": 251,
     "metadata": {},
     "output_type": "execute_result"
    }
   ],
   "source": [
    "NumberofColumns"
   ]
  },
  {
   "cell_type": "code",
   "execution_count": 252,
   "id": "b345ebd8",
   "metadata": {},
   "outputs": [],
   "source": [
    "def regex():\n",
    "    regex=\"['wafer_']+[\\d_]+[\\d]+\\.csv\"\n",
    "    return regex"
   ]
  },
  {
   "cell_type": "code",
   "execution_count": 253,
   "id": "3912b04b",
   "metadata": {},
   "outputs": [],
   "source": [
    "regex=regex()"
   ]
  },
  {
   "cell_type": "code",
   "execution_count": 254,
   "id": "28537591",
   "metadata": {},
   "outputs": [],
   "source": [
    "mkdir bad_data"
   ]
  },
  {
   "cell_type": "code",
   "execution_count": 255,
   "id": "8981c9b9",
   "metadata": {},
   "outputs": [],
   "source": [
    "mkdir good_data"
   ]
  },
  {
   "cell_type": "code",
   "execution_count": 256,
   "id": "33a886f1",
   "metadata": {},
   "outputs": [],
   "source": [
    "def validationfilename (regex,LengthOfDateStampInFile,LengthOfTimeStampInFile):\n",
    "    files=[i for i in os.listdir(training_folder_path)]\n",
    "    for filename in files:\n",
    "        if re.match(regex,filename):\n",
    "            split_at_dot=re.split('.csv',filename)\n",
    "            split_at_underline=re.split('_',split_at_dot[0])\n",
    "            if len(split_at_underline[1])==LengthOfDateStampInFile:\n",
    "                if len(split_at_underline[2])==LengthOfTimeStampInFile:\n",
    "                    shutil.copy(f'{training_folder_path}\\\\{filename}','good_data')\n",
    "                else:\n",
    "                    shutil.copy(f'{training_folder_path}\\\\{filename}','bad_data')\n",
    "                    \n",
    "            else:\n",
    "                    shutil.copy(f'{training_folder_path}\\\\{filename}','bad_data')\n",
    "                    \n",
    "        else:\n",
    "                    shutil.copy(f'{training_folder_path}\\\\{filename}','bad_data')"
   ]
  },
  {
   "cell_type": "code",
   "execution_count": 257,
   "id": "67ae8b2c",
   "metadata": {},
   "outputs": [],
   "source": [
    "validationfilename (regex,LengthOfDateStampInFile,LengthOfTimeStampInFile)"
   ]
  },
  {
   "cell_type": "code",
   "execution_count": 258,
   "id": "020fd549",
   "metadata": {},
   "outputs": [],
   "source": [
    "# validating column length in the files\n",
    "\n",
    "def validate_column (NumberofColumns):\n",
    "    files=[i for i in os.listdir('good_data') ]\n",
    "    for filename in files:\n",
    "        csv=pd.read_csv(f'good_data/{filename}')\n",
    "        if csv.shape[1]==NumberofColumns:\n",
    "            pass\n",
    "        else: \n",
    "            shutil.move(f'good_data/{filename}','bad_data')\n",
    "    "
   ]
  },
  {
   "cell_type": "code",
   "execution_count": 259,
   "id": "654dbc36",
   "metadata": {},
   "outputs": [],
   "source": [
    "validate_column (NumberofColumns)"
   ]
  },
  {
   "cell_type": "code",
   "execution_count": 262,
   "id": "0a2d482b",
   "metadata": {},
   "outputs": [],
   "source": [
    "# Validate Missing Value in Whole Column\n",
    "\n",
    "def Validate_missing_value_in_column():\n",
    "    for file in os.listdir('good_data'):\n",
    "        csv=pd.read_csv(f'good_data/{file}')\n",
    "        count=0\n",
    "        for column in csv:\n",
    "            if csv[column].isnull().sum()==len(csv[column]):\n",
    "#           if (len(csv[column])-csv[column].count())== len(csv[column]):\n",
    "                count+=1\n",
    "                shutil.move(f'good_data/{file}','bad_data')\n",
    "                break\n",
    "        if count==0:\n",
    "            csv.rename(columns={'Unnamed: 0':'wafer'}, inplace=True)\n",
    "            csv.to_csv(f'good_data/{file}', index=None, header=True)\n",
    "    \n",
    "    print('[info] validation of column done')\n",
    "            \n",
    "            \n",
    "        \n",
    "                                                         \n",
    "                                                         "
   ]
  },
  {
   "cell_type": "code",
   "execution_count": 263,
   "id": "a5eeeac0",
   "metadata": {},
   "outputs": [
    {
     "name": "stdout",
     "output_type": "stream",
     "text": [
      "[info] validation of column done\n"
     ]
    }
   ],
   "source": [
    "Validate_missing_value_in_column()"
   ]
  },
  {
   "cell_type": "code",
   "execution_count": 273,
   "id": "c4f650d5",
   "metadata": {},
   "outputs": [],
   "source": [
    "# combine all the file into 1 file\n",
    "list=[]\n",
    "for file in os.listdir('good_data'):\n",
    "    csv=pd.read_csv(f'good_data/{file}')\n",
    "    list.append(csv)\n",
    "    \n",
    "combined=pd.concat(list,axis=0, ignore_index=True)\n",
    "combined.to_csv('main_data.csv')\n",
    "\n",
    "\n",
    "\n"
   ]
  },
  {
   "cell_type": "code",
   "execution_count": null,
   "id": "24981956",
   "metadata": {},
   "outputs": [],
   "source": []
  },
  {
   "cell_type": "code",
   "execution_count": null,
   "id": "e0208199",
   "metadata": {},
   "outputs": [],
   "source": []
  }
 ],
 "metadata": {
  "kernelspec": {
   "display_name": "Python 3 (ipykernel)",
   "language": "python",
   "name": "python3"
  },
  "language_info": {
   "codemirror_mode": {
    "name": "ipython",
    "version": 3
   },
   "file_extension": ".py",
   "mimetype": "text/x-python",
   "name": "python",
   "nbconvert_exporter": "python",
   "pygments_lexer": "ipython3",
   "version": "3.9.12"
  }
 },
 "nbformat": 4,
 "nbformat_minor": 5
}
